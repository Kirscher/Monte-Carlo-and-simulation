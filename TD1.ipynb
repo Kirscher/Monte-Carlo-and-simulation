{
  "nbformat": 4,
  "nbformat_minor": 0,
  "metadata": {
    "colab": {
      "provenance": []
    },
    "kernelspec": {
      "name": "python3",
      "display_name": "Python 3"
    },
    "language_info": {
      "name": "python"
    }
  },
  "cells": [
    {
      "cell_type": "markdown",
      "source": [
        "# Monte Carlo and simulation - TD1"
      ],
      "metadata": {
        "id": "7Umc543ERFsk"
      }
    },
    {
      "cell_type": "code",
      "source": [
        "import numpy as np\n",
        "import matplotlib.pyplot as plt"
      ],
      "metadata": {
        "id": "wzWnxBPlVBR1"
      },
      "execution_count": 40,
      "outputs": []
    },
    {
      "cell_type": "markdown",
      "source": [
        "## RANDU"
      ],
      "metadata": {
        "id": "56EtM52jRPQD"
      }
    },
    {
      "cell_type": "code",
      "source": [
        "def rec(x_i):\n",
        "  return (65539*x_i)%(2**31)\n",
        "\n",
        "def RANDU(i):\n",
        "  x_i=1\n",
        "  for j in range(i):\n",
        "    x_i=rec(x_i)\n",
        "  return x_i/(2**31)"
      ],
      "metadata": {
        "id": "TtvBGf7ORM8_"
      },
      "execution_count": 31,
      "outputs": []
    },
    {
      "cell_type": "code",
      "source": [
        "L=[]\n",
        "for i in range(2*10**4):\n",
        "  L.append(RANDU(i))"
      ],
      "metadata": {
        "id": "bEcxRUwOUQvN"
      },
      "execution_count": 35,
      "outputs": []
    },
    {
      "cell_type": "code",
      "source": [
        "u_i=[]\n",
        "u_i_1=[]\n",
        "\n",
        "for i in range(len(L)):\n",
        "  if L[i]<=0.51 and L[i]>= 0.5:\n",
        "    u_i_1.append(L[i])\n",
        "    u_i.append(L[i+1])"
      ],
      "metadata": {
        "id": "xupRKMXeUzUw"
      },
      "execution_count": 39,
      "outputs": []
    },
    {
      "cell_type": "code",
      "source": [
        "plt.scatter(u_i, u_i_1)"
      ],
      "metadata": {
        "colab": {
          "base_uri": "https://localhost:8080/",
          "height": 282
        },
        "id": "jOxDjqSCV6-2",
        "outputId": "14f42221-94ae-4911-df3b-91c9f46e2ee8"
      },
      "execution_count": 41,
      "outputs": [
        {
          "output_type": "execute_result",
          "data": {
            "text/plain": [
              "<matplotlib.collections.PathCollection at 0x7fde17244580>"
            ]
          },
          "metadata": {},
          "execution_count": 41
        },
        {
          "output_type": "display_data",
          "data": {
            "text/plain": [
              "<Figure size 432x288 with 1 Axes>"
            ],
            "image/png": "[encoded data removed]"
          },
          "metadata": {
            "needs_background": "light"
          }
        }
      ]
    },
    {
      "cell_type": "code",
      "source": [],
      "metadata": {
        "id": "SllplO22WMpV"
      },
      "execution_count": null,
      "outputs": []
    }
  ]
}