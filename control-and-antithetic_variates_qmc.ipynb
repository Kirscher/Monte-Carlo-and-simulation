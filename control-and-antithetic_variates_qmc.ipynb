{
 "cells": [
  {
   "attachments": {},
   "cell_type": "markdown",
   "metadata": {},
   "source": [
    "# Control variates, antithetic variates, QMC\n"
   ]
  },
  {
   "attachments": {},
   "cell_type": "markdown",
   "metadata": {},
   "source": [
    "Consider $X ∼ N_{d}(0, I_{d})$ (standard Gaussian distribution of dimension d). \\\n",
    "We want to compute the probability that $X ∈ A$ for a certain $A ⊂ R^2$. Consider for instance:\n",
    "\n",
    "$A = \\{(x_{1}, . . . , x_{d}), \\mathopen{|} \\prod_{i=1}^n x_{i}\\mathclose{|} ≤ c\\}$\n"
   ]
  },
  {
   "cell_type": "code",
   "execution_count": 5,
   "metadata": {},
   "outputs": [],
   "source": [
    "import numpy as np"
   ]
  },
  {
   "attachments": {},
   "cell_type": "markdown",
   "metadata": {},
   "source": [
    "### Approximation of the probability"
   ]
  },
  {
   "cell_type": "code",
   "execution_count": 9,
   "metadata": {},
   "outputs": [],
   "source": [
    "def gaussian_probability(d, N, c):\n",
    "    X = np.random.multivariate_normal(np.zeros(d), np.identity(d), size = N)\n",
    "    product = np.abs(np.prod(X, axis=1))\n",
    "    return np.mean(product <= c)"
   ]
  },
  {
   "cell_type": "code",
   "execution_count": 15,
   "metadata": {},
   "outputs": [
    {
     "data": {
      "text/plain": [
       "0.6"
      ]
     },
     "execution_count": 15,
     "metadata": {},
     "output_type": "execute_result"
    }
   ],
   "source": [
    "d=5\n",
    "N=100\n",
    "c=.1\n",
    "gaussian_probability(d, N, c)"
   ]
  },
  {
   "attachments": {},
   "cell_type": "markdown",
   "metadata": {},
   "source": [
    "### Control variates"
   ]
  },
  {
   "cell_type": "code",
   "execution_count": 23,
   "metadata": {},
   "outputs": [],
   "source": [
    "def gaussian_probability_cv(d, N, c, beta):\n",
    "    X = np.random.multivariate_normal(np.zeros(d), np.identity(d), size = N)\n",
    "    product = np.abs(np.prod(X, axis=1))\n",
    "    return np.mean((product <= c) - beta*X[:, 0])"
   ]
  },
  {
   "cell_type": "code",
   "execution_count": 42,
   "metadata": {},
   "outputs": [
    {
     "data": {
      "text/plain": [
       "-0.05621851663853636"
      ]
     },
     "execution_count": 42,
     "metadata": {},
     "output_type": "execute_result"
    }
   ],
   "source": [
    "d=5\n",
    "N=100\n",
    "c=.001\n",
    "beta=1\n",
    "gaussian_probability_cv(d, N, c, 1)"
   ]
  },
  {
   "attachments": {},
   "cell_type": "markdown",
   "metadata": {},
   "source": [
    "Issue : we can get negative probabilities. Control variates does not work here."
   ]
  },
  {
   "attachments": {},
   "cell_type": "markdown",
   "metadata": {},
   "source": [
    "### Antithetic variates"
   ]
  },
  {
   "cell_type": "code",
   "execution_count": 19,
   "metadata": {},
   "outputs": [],
   "source": [
    "def gaussian_probability_antithetic(d, N, c):\n",
    "    X = np.random.multivariate_normal(np.zeros(d), np.identity(d), size = N)\n",
    "    prod = np.abs(np.prod(X, axis=1))\n",
    "    minus_prod = np.abs(np.prod(-X, axis=1))\n",
    "    return (np.sum(prod <= c) + np.sum(minus_prod <= c))/(2*N)"
   ]
  },
  {
   "cell_type": "code",
   "execution_count": 20,
   "metadata": {},
   "outputs": [
    {
     "data": {
      "text/plain": [
       "0.62"
      ]
     },
     "execution_count": 20,
     "metadata": {},
     "output_type": "execute_result"
    }
   ],
   "source": [
    "d=5\n",
    "N=100\n",
    "c=.1\n",
    "gaussian_probability_antithetic(d, N, c)"
   ]
  }
 ],
 "metadata": {
  "kernelspec": {
   "display_name": "Python 3",
   "language": "python",
   "name": "python3"
  },
  "language_info": {
   "codemirror_mode": {
    "name": "ipython",
    "version": 3
   },
   "file_extension": ".py",
   "mimetype": "text/x-python",
   "name": "python",
   "nbconvert_exporter": "python",
   "pygments_lexer": "ipython3",
   "version": "3.10.4"
  },
  "orig_nbformat": 4
 },
 "nbformat": 4,
 "nbformat_minor": 2
}
