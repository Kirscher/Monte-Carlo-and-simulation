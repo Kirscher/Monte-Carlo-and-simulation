{
 "cells": [
  {
   "attachments": {},
   "cell_type": "markdown",
   "metadata": {},
   "source": [
    "# Control variates, antithetic variates, QMC\n"
   ]
  },
  {
   "attachments": {},
   "cell_type": "markdown",
   "metadata": {},
   "source": [
    "Consider $X ∼ N_{d}(0, I_{d})$ (standard Gaussian distribution of dimension d). \\\n",
    "We want to compute the probability that $X ∈ A$ for a certain $A ⊂ R^2$. We consider for example:\n",
    "\n",
    "$A = \\{(x_{1}, . . . , x_{d}), \\mathopen{|} \\prod_{i=1}^n x_{i}\\mathclose{|} ≤ c\\}$\n"
   ]
  },
  {
   "cell_type": "code",
   "execution_count": 5,
   "metadata": {},
   "outputs": [],
   "source": [
    "import numpy as np"
   ]
  },
  {
   "attachments": {},
   "cell_type": "markdown",
   "metadata": {},
   "source": [
    "### Approximation of the probability"
   ]
  },
  {
   "cell_type": "code",
   "execution_count": 9,
   "metadata": {},
   "outputs": [],
   "source": [
    "def gaussian_probability(d, N, c):\n",
    "    X = np.random.multivariate_normal(np.zeros(d), np.identity(d), size = N)\n",
    "    product = np.abs(np.prod(X, axis=1))\n",
    "    return np.mean(product <= c)"
   ]
  },
  {
   "cell_type": "code",
   "execution_count": 15,
   "metadata": {},
   "outputs": [
    {
     "data": {
      "text/plain": [
       "0.6"
      ]
     },
     "execution_count": 15,
     "metadata": {},
     "output_type": "execute_result"
    }
   ],
   "source": [
    "d=5\n",
    "N=100\n",
    "c=.1\n",
    "gaussian_probability(d, N, c)"
   ]
  },
  {
   "attachments": {},
   "cell_type": "markdown",
   "metadata": {},
   "source": [
    "### Control variates"
   ]
  },
  {
   "cell_type": "code",
   "execution_count": 23,
   "metadata": {},
   "outputs": [],
   "source": [
    "def gaussian_probability_cv(d, N, c, beta):\n",
    "    X = np.random.multivariate_normal(np.zeros(d), np.identity(d), size = N)\n",
    "    product = np.abs(np.prod(X, axis=1))\n",
    "    return np.mean((product <= c) - beta*X[:, 0])"
   ]
  },
  {
   "cell_type": "code",
   "execution_count": 70,
   "metadata": {},
   "outputs": [
    {
     "data": {
      "text/plain": [
       "-0.08160918626205124"
      ]
     },
     "execution_count": 70,
     "metadata": {},
     "output_type": "execute_result"
    }
   ],
   "source": [
    "d=5\n",
    "N=100\n",
    "c=.0001\n",
    "beta=.01\n",
    "gaussian_probability_cv(d, N, c, 1)"
   ]
  },
  {
   "attachments": {},
   "cell_type": "markdown",
   "metadata": {},
   "source": [
    "Issue : we can get negative probabilities. Control variates does not work here."
   ]
  },
  {
   "attachments": {},
   "cell_type": "markdown",
   "metadata": {},
   "source": [
    "### Antithetic variates"
   ]
  },
  {
   "cell_type": "code",
   "execution_count": 19,
   "metadata": {},
   "outputs": [],
   "source": [
    "def gaussian_probability_antithetic(d, N, c):\n",
    "    X = np.random.multivariate_normal(np.zeros(d), np.identity(d), size = N)\n",
    "    prod = np.abs(np.prod(X, axis=1))\n",
    "    minus_prod = np.abs(np.prod(-X, axis=1))\n",
    "    return (np.sum(prod <= c) + np.sum(minus_prod <= c))/(2*N)"
   ]
  },
  {
   "cell_type": "code",
   "execution_count": 20,
   "metadata": {},
   "outputs": [
    {
     "data": {
      "text/plain": [
       "0.62"
      ]
     },
     "execution_count": 20,
     "metadata": {},
     "output_type": "execute_result"
    }
   ],
   "source": [
    "d=5\n",
    "N=100\n",
    "c=.1\n",
    "gaussian_probability_antithetic(d, N, c)"
   ]
  },
  {
   "attachments": {},
   "cell_type": "markdown",
   "metadata": {},
   "source": [
    "### Variance comparison"
   ]
  },
  {
   "cell_type": "code",
   "execution_count": 51,
   "metadata": {},
   "outputs": [],
   "source": [
    "Nrep = 1000\n",
    "probs = np.zeros([3, Nrep])\n",
    "for i in range(Nrep):\n",
    "    probs[0, i] = gaussian_probability(d, N ,c)\n",
    "    probs[1, i] = gaussian_probability_antithetic(d, N ,c)\n",
    "    probs[2, i] = gaussian_probability_cv(d, N ,c, beta)"
   ]
  },
  {
   "cell_type": "code",
   "execution_count": 71,
   "metadata": {},
   "outputs": [
    {
     "data": {
      "text/plain": [
       "array([0.00071344, 0.00073899, 0.00068398])"
      ]
     },
     "execution_count": 71,
     "metadata": {},
     "output_type": "execute_result"
    }
   ],
   "source": [
    "np.var(probs, axis=1)"
   ]
  },
  {
   "attachments": {},
   "cell_type": "markdown",
   "metadata": {},
   "source": [
    "### QMC (quasi-Monte Carlo)"
   ]
  },
  {
   "cell_type": "code",
   "execution_count": null,
   "metadata": {},
   "outputs": [],
   "source": []
  }
 ],
 "metadata": {
  "kernelspec": {
   "display_name": "Python 3",
   "language": "python",
   "name": "python3"
  },
  "language_info": {
   "codemirror_mode": {
    "name": "ipython",
    "version": 3
   },
   "file_extension": ".py",
   "mimetype": "text/x-python",
   "name": "python",
   "nbconvert_exporter": "python",
   "pygments_lexer": "ipython3",
   "version": "3.10.4"
  },
  "orig_nbformat": 4
 },
 "nbformat": 4,
 "nbformat_minor": 2
}
