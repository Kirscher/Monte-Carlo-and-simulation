{
  "nbformat": 4,
  "nbformat_minor": 0,
  "metadata": {
    "colab": {
      "provenance": [],
      "authorship_tag": "ABX9TyPbR1YfJdx4iIwK3AW1ZN0k"
    },
    "kernelspec": {
      "name": "python3",
      "display_name": "Python 3"
    },
    "language_info": {
      "name": "python"
    }
  },
  "cells": [
    {
      "cell_type": "markdown",
      "source": [
        "\n",
        "## **Improved Box-Muller**"
      ],
      "metadata": {
        "id": "x3VGskfFcQBk"
      }
    },
    {
      "cell_type": "markdown",
      "source": [
        "The improved Box-Muller algorithm samples two unit Gaussian variates as\n",
        "follows:\n",
        "\n",
        "+ Repeat: $U_1, U_2 ∼ \\mathcal{U}[−1, 1]$ until $U_1^2+U_2^2 ≤ 1$.\n",
        "\n",
        "+ Return $X=U_1\\sqrt{-2(logS)/S}$ and $Y=U_2\\sqrt{-2(logS)/S}$, where $S=U_1^2+U_2^2$.\n",
        "\n",
        "\n"
      ],
      "metadata": {
        "id": "qOB14n9rchV1"
      }
    },
    {
      "cell_type": "markdown",
      "source": [
        "### Comparison with the standard Box-Muller algorithm"
      ],
      "metadata": {
        "id": "bwirzdOld1N0"
      }
    },
    {
      "cell_type": "code",
      "source": [
        "import math\n",
        "import numpy as np\n",
        "import matplotlib.pyplot as plt"
      ],
      "metadata": {
        "id": "zHmlJ0j8kBxu"
      },
      "execution_count": 1,
      "outputs": []
    },
    {
      "cell_type": "code",
      "source": [
        "def improved_Box_Muller():\n",
        "  S=2\n",
        "  while S > 1:\n",
        "    U_1=np.random.uniform(-1,1)\n",
        "    U_2=np.random.uniform(-1,1)\n",
        "    S=U_1**2+U_2**2\n",
        "  X=U_1*np.sqrt(-2*np.log(S)/S)\n",
        "  Y=U_2*np.sqrt(-2*np.log(S)/S)\n",
        "  return X, Y"
      ],
      "metadata": {
        "id": "7g6QDr8ocS15"
      },
      "execution_count": 2,
      "outputs": []
    },
    {
      "cell_type": "code",
      "source": [
        "X,Y=improved_Box_Muller()"
      ],
      "metadata": {
        "id": "JO0Hz46yhzvn"
      },
      "execution_count": 3,
      "outputs": []
    },
    {
      "cell_type": "code",
      "source": [
        "def generate_imp_Box_Muller(n_sample):\n",
        "  L=[]\n",
        "  for i in range(n_sample):\n",
        "    X,Y=improved_Box_Muller()\n",
        "    L.append(X); L.append(Y),\n",
        "  return L"
      ],
      "metadata": {
        "id": "xyQLBV9DgJgt"
      },
      "execution_count": 4,
      "outputs": []
    },
    {
      "cell_type": "code",
      "source": [
        "output=generate_imp_Box_Muller(10000)\n",
        "plt.hist(output, density=True, stacked=True, histtype='step', bins=50, color='blue', label='Improved Box-Muller')\n",
        "plt.hist(np.random.normal(0, 1, 1000), density=True, stacked=True, histtype='step', bins=50, color='red', label='Numpy random.normal')\n",
        "plt.legend(bbox_to_anchor=(1, 1))\n",
        "plt.plot()"
      ],
      "metadata": {
        "colab": {
          "base_uri": "https://localhost:8080/",
          "height": 282
        },
        "id": "g_ptzQPwfxec",
        "outputId": "2a19590c-ecb7-4888-a274-68d2be4788d5"
      },
      "execution_count": 5,
      "outputs": [
        {
          "output_type": "execute_result",
          "data": {
            "text/plain": [
              "[]"
            ]
          },
          "metadata": {},
          "execution_count": 5
        },
        {
          "output_type": "display_data",
          "data": {
            "text/plain": [
              "<Figure size 432x288 with 1 Axes>"
            ],
            "image/png": "[encoded data removed]"
          },
          "metadata": {
            "needs_background": "light"
          }
        }
      ]
    }
  ]
}