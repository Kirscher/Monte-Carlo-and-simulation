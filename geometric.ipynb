{
  "nbformat": 4,
  "nbformat_minor": 0,
  "metadata": {
    "colab": {
      "provenance": [],
      "authorship_tag": "ABX9TyMcuAlQbd2kVEAH8Pavsc2t"
    },
    "kernelspec": {
      "name": "python3",
      "display_name": "Python 3"
    },
    "language_info": {
      "name": "python"
    }
  },
  "cells": [
    {
      "cell_type": "markdown",
      "source": [
        "# Geometric distribution\n",
        "\n",
        "Implementation of algorithms to sample from a geometric distribution."
      ],
      "metadata": {
        "id": "N-aha7rYGzus"
      }
    },
    {
      "cell_type": "code",
      "execution_count": 35,
      "metadata": {
        "id": "pUBVu1JYGboe"
      },
      "outputs": [],
      "source": [
        "import math\n",
        "import numpy as np\n",
        "import matplotlib.pyplot as plt"
      ]
    },
    {
      "cell_type": "code",
      "source": [
        "def geometric(p):\n",
        "  U=1\n",
        "  k=1\n",
        "  while U>p:\n",
        "    U=np.random.uniform(0,1)\n",
        "    k+=1\n",
        "  return k"
      ],
      "metadata": {
        "id": "y47HGbi7HaAC"
      },
      "execution_count": 50,
      "outputs": []
    },
    {
      "cell_type": "code",
      "source": [
        "def generate_geometric(n_sample, p):\n",
        "  L=[]\n",
        "  for i in range(n_sample):\n",
        "    X=geometric(p)\n",
        "    L.append(X)\n",
        "  return L"
      ],
      "metadata": {
        "id": "p_rG-XRDH_NI"
      },
      "execution_count": 42,
      "outputs": []
    },
    {
      "cell_type": "code",
      "source": [
        "p=0.05\n",
        "n_samples=100\n",
        "\n",
        "L=generate_geometric(n_samples, p)\n",
        "plt.hist(L, density=True)\n",
        "plt.title(\"Histogram: {} simulations of a geometric distribution with p={}\".format(n_samples, p))\n",
        "plt.show()"
      ],
      "metadata": {
        "colab": {
          "base_uri": "https://localhost:8080/",
          "height": 281
        },
        "id": "S29FnuZbIzAd",
        "outputId": "d890e327-af30-4332-84b8-ede0b0d3be63"
      },
      "execution_count": 58,
      "outputs": [
        {
          "output_type": "display_data",
          "data": {
            "text/plain": [
              "<Figure size 432x288 with 1 Axes>"
            ],
            "image/png": "[encoded data removed]"
          },
          "metadata": {
            "needs_background": "light"
          }
        }
      ]
    }
  ]
}