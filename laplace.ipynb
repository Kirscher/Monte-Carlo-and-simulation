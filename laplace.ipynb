{
  "nbformat": 4,
  "nbformat_minor": 0,
  "metadata": {
    "colab": {
      "provenance": [],
      "authorship_tag": "ABX9TyMRQnKSLPZp4PSHVk4hA04T"
    },
    "kernelspec": {
      "name": "python3",
      "display_name": "Python 3"
    },
    "language_info": {
      "name": "python"
    }
  },
  "cells": [
    {
      "cell_type": "markdown",
      "source": [
        "# Laplace and rejection"
      ],
      "metadata": {
        "id": "b7YTB6vMNeTv"
      }
    },
    {
      "cell_type": "markdown",
      "source": [
        "## Random generator for the Laplace distribution"
      ],
      "metadata": {
        "id": "mz4TUl3iNlJ5"
      }
    },
    {
      "cell_type": "markdown",
      "source": [
        "### Inverse transform sampling algorithm\n",
        "\n",
        "*Inverse transform sampling* method is a simulation algorithm used to generate random samples from a continuous distribution :\n",
        "\n",
        "1. Compute the CDF $F(x)$ of the distribution.\n",
        "2. Generate a uniform random number $u$ on [0,1].\n",
        "3. Find the value $x$ such that $F(x) = u$ by inverting the CDF.\n",
        "4. Output the sample $x$.\n",
        "\n",
        "The Laplace distribution is a continuous probability distribution with PDF:\n",
        "$$f(t; \\mu, b) = \\frac{1}{2b} e^{-\\frac{|t-\\mu|}{b}}$$\n",
        "\n",
        "To find the inverse CDF of this distribution, we first compute the CDF:\n",
        "\n",
        "\\begin{align*}\n",
        "F(x; \\mu, b) &= \\int_{-\\infty}^x f(t; \\mu, b) dt \\\n",
        "\\end{align*}\n",
        "\\begin{align*}\n",
        "&=\\int_{-\\infty}^{\\mu} \\frac{1}{2b} e^{-\\frac{\\mu-t}{b}} dt + \\int_{\\mu}^x \\frac{1}{2b} e^{-\\frac{x-t}{b}} dt \\\n",
        "\\end{align*}\n",
        "\\begin{align*}\n",
        "&= \\left\\{\\begin{array}{ll}\n",
        "        \\frac{1}{2} e^{\\frac{x-\\mu}{b}} \\quad \\text{if } x \\geq \\mu \\quad \\\\\n",
        "        \\frac{1}{2} e^{\\frac{\\mu-x}{b}} \\quad \\text{if } x < \\mu\n",
        "    \\end{array}\\right.\n",
        "\\end{align*}\n",
        "\n",
        "To invert the CDF, we solve the equation $F(x) = u$ for $x$, where $u$ is a uniformly distributed random variable on [0,1]. We consider the two cases separately:\n",
        "+ If $u \\leq \\frac{1}{2}$, then we have:\n",
        "$$u = \\frac{1}{2} e^{\\frac{x-\\mu}{b}}$$\n",
        "Taking the natural logarithm of both sides and rearranging, we get:\n",
        "$$x = \\mu + b \\ln(2u)$$\n",
        "\n",
        " If $u > \\frac{1}{2}$, then we have:\n",
        "$$u = 1 - \\frac{1}{2} e^{-\\frac{x-\\mu}{b}}$$\n",
        "Solving for $x$ as before, we get:\n",
        "$$x = \\mu - b \\ln(2(1-u))$$\n",
        "\n",
        "\n",
        "\n"
      ],
      "metadata": {
        "id": "i-GjNkaXO2xb"
      }
    },
    {
      "cell_type": "code",
      "source": [
        "import math\n",
        "import numpy as np\n",
        "import matplotlib.pyplot as plt"
      ],
      "metadata": {
        "id": "fviU3krKN341"
      },
      "execution_count": 1,
      "outputs": []
    },
    {
      "cell_type": "code",
      "execution_count": 9,
      "metadata": {
        "id": "z2PVLRgnNZYO"
      },
      "outputs": [],
      "source": [
        "#using inverse transform sampling\n",
        "def laplace():\n",
        "  u=np.random.uniform()\n",
        "  if u<0.5:\n",
        "    X=np.log(2*u)\n",
        "  else:\n",
        "    X=-log(2*(1-u))\n",
        "  return X"
      ]
    },
    {
      "cell_type": "code",
      "source": [
        "laplace()"
      ],
      "metadata": {
        "colab": {
          "base_uri": "https://localhost:8080/"
        },
        "id": "kep4-k4IWfgu",
        "outputId": "5f61688e-604d-40d9-eca7-d8ebce2456ef"
      },
      "execution_count": 10,
      "outputs": [
        {
          "output_type": "execute_result",
          "data": {
            "text/plain": [
              "-0.29381498261101674"
            ]
          },
          "metadata": {},
          "execution_count": 10
        }
      ]
    },
    {
      "cell_type": "markdown",
      "source": [
        "### Rejection algorithm"
      ],
      "metadata": {
        "id": "wnoEI3IbQY32"
      }
    },
    {
      "cell_type": "code",
      "source": [],
      "metadata": {
        "id": "wQWNzKeVQYds"
      },
      "execution_count": null,
      "outputs": []
    }
  ]
}